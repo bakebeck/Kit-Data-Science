{
 "cells": [
  {
   "cell_type": "markdown",
   "metadata": {},
   "source": [
    "# SD701\n",
    "## Lab on real-world graph analysis"
   ]
  },
  {
   "cell_type": "markdown",
   "metadata": {},
   "source": [
    "The objective of this lab is to get a feeling of real-world graphs. For information on the `scikit-network` library, [the documentation is handy](https://scikit-network.readthedocs.io/)."
   ]
  },
  {
   "cell_type": "markdown",
   "metadata": {},
   "source": [
    "## Import"
   ]
  },
  {
   "cell_type": "code",
   "execution_count": 1,
   "metadata": {},
   "outputs": [],
   "source": [
    "import numpy as np"
   ]
  },
  {
   "cell_type": "code",
   "execution_count": 2,
   "metadata": {},
   "outputs": [],
   "source": [
    "import networkx as nx"
   ]
  },
  {
   "cell_type": "code",
   "execution_count": 3,
   "metadata": {},
   "outputs": [],
   "source": [
    "import matplotlib.pyplot as plt\n",
    "from itertools import groupby"
   ]
  },
  {
   "cell_type": "code",
   "execution_count": 4,
   "metadata": {},
   "outputs": [],
   "source": [
    "import sknetwork as skn"
   ]
  },
  {
   "cell_type": "code",
   "execution_count": 5,
   "metadata": {},
   "outputs": [],
   "source": [
    "# Util function to plot the inverse cumulative distribution\n",
    "def ccdf(values):\n",
    "    x = []\n",
    "    y = []\n",
    "    values = sorted(values)\n",
    "\n",
    "    # First make dist\n",
    "    dist = [(key, len(list(group))) for key, group in groupby(values)]\n",
    "\n",
    "    # Then compute inverse cumulative\n",
    "    total = 1.0\n",
    "    for (val, count) in dist:\n",
    "        x.append(val)\n",
    "        y.append(total)\n",
    "        total -= count/len(values)\n",
    "    return x, y\n",
    "\n",
    "# Util function to return the distribution of values\n",
    "def dist(values):\n",
    "    values = sorted(values)\n",
    "\n",
    "    # First make dist\n",
    "    dist = [(key, len(list(group))) for key, group in groupby(values)]\n",
    "    \n",
    "    return [x[0] for x in dist], [x[1] for x in dist]"
   ]
  },
  {
   "cell_type": "markdown",
   "metadata": {},
   "source": [
    "## Load data"
   ]
  },
  {
   "cell_type": "markdown",
   "metadata": {},
   "source": [
    "We will work on 2 graphs induced by the [Vital articles of Wikipedia](https://en.wikipedia.org/wiki/Wikipedia:Vital_articles/Level/4), a selection of about 10,000 articles of the English Wikipedia:\n",
    "* the directed graph of hyperlinks between these articles,\n",
    "* the bipartite graph between articles and (stemmed) words used in their summary."
   ]
  },
  {
   "cell_type": "code",
   "execution_count": 6,
   "metadata": {},
   "outputs": [
    {
     "data": {
      "text/plain": [
       "dict_keys(['names_labels_hierarchy', 'names_row', 'names_labels', 'labels', 'adjacency', 'meta', 'labels_hierarchy', 'names', 'names_col', 'biadjacency'])"
      ]
     },
     "execution_count": 6,
     "metadata": {},
     "output_type": "execute_result"
    }
   ],
   "source": [
    "data = skn.data.load_netset('wikivitals')\n",
    "data.keys()"
   ]
  },
  {
   "cell_type": "code",
   "execution_count": 7,
   "metadata": {
    "scrolled": true
   },
   "outputs": [],
   "source": [
    "# graph of links\n",
    "adjacency = data.adjacency"
   ]
  },
  {
   "cell_type": "code",
   "execution_count": 8,
   "metadata": {},
   "outputs": [],
   "source": [
    "# graph of words\n",
    "biadjacency = data.biadjacency"
   ]
  },
  {
   "cell_type": "code",
   "execution_count": 38,
   "metadata": {},
   "outputs": [],
   "source": [
    "# article names\n",
    "names = data.names"
   ]
  },
  {
   "cell_type": "code",
   "execution_count": 10,
   "metadata": {},
   "outputs": [
    {
     "data": {
      "text/plain": [
       "array(['People', 'History', 'Geography', 'Arts',\n",
       "       'Philosophy and religion', 'Everyday life',\n",
       "       'Society and social sciences', 'Biology and health sciences',\n",
       "       'Physical sciences', 'Technology', 'Mathematics'], dtype='<U27')"
      ]
     },
     "execution_count": 10,
     "metadata": {},
     "output_type": "execute_result"
    }
   ],
   "source": [
    "# article categories\n",
    "categories = data.names_labels\n",
    "categories"
   ]
  },
  {
   "cell_type": "code",
   "execution_count": 11,
   "metadata": {},
   "outputs": [
    {
     "data": {
      "text/plain": [
       "array(['moos', 'tonnag', 'separatist', ..., 'luteum', 'radiat', 'helena'],\n",
       "      dtype='<U22')"
      ]
     },
     "execution_count": 11,
     "metadata": {},
     "output_type": "execute_result"
    }
   ],
   "source": [
    "# words\n",
    "words = data.names_col\n",
    "words"
   ]
  },
  {
   "cell_type": "code",
   "execution_count": 12,
   "metadata": {},
   "outputs": [],
   "source": [
    "node_index = {name:i for i, name in enumerate(names)}"
   ]
  },
  {
   "cell_type": "code",
   "execution_count": 13,
   "metadata": {},
   "outputs": [],
   "source": [
    "n_articles, n_words = biadjacency.shape"
   ]
  },
  {
   "cell_type": "code",
   "execution_count": 78,
   "metadata": {},
   "outputs": [],
   "source": [
    "labels = data.labels"
   ]
  },
  {
   "cell_type": "markdown",
   "metadata": {},
   "source": [
    "### Basic statistics\n",
    "\n",
    "* Compute the number of nodes and edges for each of the two Wikivitals graph"
   ]
  },
  {
   "cell_type": "markdown",
   "metadata": {},
   "source": [
    "The number of nodes is nothing more than the number of rows / columns in the matrix. For the articles, the matrix is square (because the graph is unipartite), but the words graph is bipartite : there are _words_ linked to _articles_. For the edges, remember that each edge corresponds to a non zero value in the matrix. As such, `matrix.nnz` contains exactly the number of edges."
   ]
  },
  {
   "cell_type": "code",
   "execution_count": 15,
   "metadata": {},
   "outputs": [
    {
     "name": "stdout",
     "output_type": "stream",
     "text": [
      "There are 10012 nodes in the articles graph.\n"
     ]
    }
   ],
   "source": [
    "print(f\"There are {adjacency.shape[0]} nodes in the articles graph.\")"
   ]
  },
  {
   "cell_type": "code",
   "execution_count": 16,
   "metadata": {},
   "outputs": [
    {
     "name": "stdout",
     "output_type": "stream",
     "text": [
      "There are 10012 articles in the words graph, and 31323 words, so that's a total of 41335 nodes.\n"
     ]
    }
   ],
   "source": [
    "num_articles = biadjacency.shape[0]\n",
    "num_words = biadjacency.shape[1]\n",
    "print(f\"There are {num_articles} articles in the words graph, and {num_words} words, so that's a total of {num_articles+num_words} nodes.\")"
   ]
  },
  {
   "cell_type": "code",
   "execution_count": 17,
   "metadata": {},
   "outputs": [
    {
     "name": "stdout",
     "output_type": "stream",
     "text": [
      "There are 792091 edges in the article graph.\n",
      "There are 995919 edges in the words graph.\n"
     ]
    }
   ],
   "source": [
    "print(f\"There are {adjacency.nnz} edges in the article graph.\")\n",
    "print(f\"There are {biadjacency.nnz} edges in the words graph.\")"
   ]
  },
  {
   "cell_type": "markdown",
   "metadata": {},
   "source": [
    "### Degrees\n",
    "\n",
    "* What are the minimum degree? The maximum one?\n",
    "* Compute (and plot) the degree distribution of the Wiki graph, in log-log scale"
   ]
  },
  {
   "cell_type": "markdown",
   "metadata": {},
   "source": [
    "We know that in the adjacency matrix, the presence of an edge between nodes i and j corresponds to a 1 in the matrix at coordinates (i,j). So, if we count the number of $1$'s in row i, we obtain the number of neighbours of node i (i.e. its degree).\n",
    "To do this efficiently for all nodes, we compute the matrix product between `adjacency` and an adequately sized vector of $1$'s."
   ]
  },
  {
   "cell_type": "code",
   "execution_count": 18,
   "metadata": {},
   "outputs": [],
   "source": [
    "degrees = np.array(adjacency.dot(np.ones(adjacency.shape[0])))"
   ]
  },
  {
   "cell_type": "code",
   "execution_count": 19,
   "metadata": {},
   "outputs": [
    {
     "data": {
      "text/plain": [
       "(0.0, 664.0, 79.11416300439473)"
      ]
     },
     "execution_count": 19,
     "metadata": {},
     "output_type": "execute_result"
    }
   ],
   "source": [
    "min(degrees), max(degrees), np.mean(degrees)"
   ]
  },
  {
   "cell_type": "markdown",
   "metadata": {},
   "source": [
    "Let us now look at the degree distribution. We use the helper functions `dist` and `ccdf` (for **C**umulative **C**onverse **D**istribution **F**unction)"
   ]
  },
  {
   "cell_type": "code",
   "execution_count": 20,
   "metadata": {},
   "outputs": [
    {
     "data": {
      "text/plain": [
       "Text(0, 0.5, 'Number of words having degree = k')"
      ]
     },
     "execution_count": 20,
     "metadata": {},
     "output_type": "execute_result"
    },
    {
     "data": {
      "image/png": "[encoded data removed]",
      "text/plain": [
       "<Figure size 432x288 with 1 Axes>"
      ]
     },
     "metadata": {
      "needs_background": "light"
     },
     "output_type": "display_data"
    }
   ],
   "source": [
    "import matplotlib.pyplot as plt\n",
    "\n",
    "degree_dist_x, degree_dist_y = dist(degrees)\n",
    "\n",
    "plt.plot(degree_dist_x, degree_dist_y)\n",
    "plt.xlabel(\"k\")\n",
    "plt.ylabel(\"Number of words having degree = k\")"
   ]
  },
  {
   "cell_type": "markdown",
   "metadata": {},
   "source": [
    "This distributions are interesting, but somewhat \"noisy\", which can make them hard to read. It is sometimes useful to look isntead at the Inverse Cumulative Distribution, that is usually much smoother."
   ]
  },
  {
   "cell_type": "code",
   "execution_count": 36,
   "metadata": {},
   "outputs": [
    {
     "data": {
      "text/plain": [
       "Text(0, 0.5, 'Number of words having degree >= k')"
      ]
     },
     "execution_count": 36,
     "metadata": {},
     "output_type": "execute_result"
    },
    {
     "data": {
      "image/png": "[encoded data removed]",
      "text/plain": [
       "<Figure size 432x288 with 1 Axes>"
      ]
     },
     "metadata": {
      "needs_background": "light"
     },
     "output_type": "display_data"
    }
   ],
   "source": [
    "degree_ccdf_x, degree_ccdf_y = ccdf(degrees)\n",
    "\n",
    "plt.loglog(degree_ccdf_x, degree_ccdf_y)\n",
    "plt.xlabel(\"k\")\n",
    "plt.ylabel(\"Number of words having degree >= k\")"
   ]
  },
  {
   "cell_type": "markdown",
   "metadata": {},
   "source": [
    "Let us do the same for the biadjacency matrix. We use the same \"trick\", however notice that there are two types of nodes (the matrix is not square anymore), so we have to separate the degrees of the articles and the words."
   ]
  },
  {
   "cell_type": "code",
   "execution_count": 22,
   "metadata": {},
   "outputs": [],
   "source": [
    "biadj_articles_degrees = np.array(biadjacency.T.dot(np.ones(biadjacency.shape[0])))\n",
    "biadj_words_degrees = np.array(biadjacency.dot(np.ones(biadjacency.shape[1])))"
   ]
  },
  {
   "cell_type": "code",
   "execution_count": 23,
   "metadata": {},
   "outputs": [
    {
     "name": "stdout",
     "output_type": "stream",
     "text": [
      "Articles: 2.0 8843.0 46.382147303898094\n",
      "Words: 5.0 913.0 145.10866959648422\n"
     ]
    }
   ],
   "source": [
    "print(\"Articles:\", min(biadj_articles_degrees), max(biadj_articles_degrees), np.mean(biadj_articles_degrees))\n",
    "print(\"Words:\", min(biadj_words_degrees), max(biadj_words_degrees), np.mean(biadj_words_degrees))"
   ]
  },
  {
   "cell_type": "code",
   "execution_count": 24,
   "metadata": {},
   "outputs": [
    {
     "data": {
      "text/plain": [
       "Text(0, 0.5, 'Number of articles having degree = k')"
      ]
     },
     "execution_count": 24,
     "metadata": {},
     "output_type": "execute_result"
    },
    {
     "data": {
      "image/png": "[encoded data removed]",
      "text/plain": [
       "<Figure size 432x288 with 1 Axes>"
      ]
     },
     "metadata": {
      "needs_background": "light"
     },
     "output_type": "display_data"
    }
   ],
   "source": [
    "degree_articles_dist_x, degree_articles_dist_y = dist(biadj_articles_degrees)\n",
    "degree_words_dist_x, degree_words_dist_y = dist(biadj_words_degrees)\n",
    "\n",
    "plt.loglog(degree_articles_dist_x, degree_articles_dist_y)\n",
    "plt.xlabel(\"k\")\n",
    "plt.ylabel(\"Number of articles having degree = k\")"
   ]
  },
  {
   "cell_type": "code",
   "execution_count": 25,
   "metadata": {},
   "outputs": [
    {
     "data": {
      "text/plain": [
       "Text(0, 0.5, 'Number of words having degree = k')"
      ]
     },
     "execution_count": 25,
     "metadata": {},
     "output_type": "execute_result"
    },
    {
     "data": {
      "image/png": "[encoded data removed]",
      "text/plain": [
       "<Figure size 432x288 with 1 Axes>"
      ]
     },
     "metadata": {
      "needs_background": "light"
     },
     "output_type": "display_data"
    }
   ],
   "source": [
    "plt.plot(degree_words_dist_x, degree_words_dist_y)\n",
    "plt.xlabel(\"k\")\n",
    "plt.ylabel(\"Number of words having degree = k\")"
   ]
  },
  {
   "cell_type": "code",
   "execution_count": 26,
   "metadata": {},
   "outputs": [
    {
     "data": {
      "text/plain": [
       "<matplotlib.legend.Legend at 0x7fa0131d5a60>"
      ]
     },
     "execution_count": 26,
     "metadata": {},
     "output_type": "execute_result"
    },
    {
     "data": {
      "image/png": "[encoded data removed]",
      "text/plain": [
       "<Figure size 432x288 with 1 Axes>"
      ]
     },
     "metadata": {
      "needs_background": "light"
     },
     "output_type": "display_data"
    }
   ],
   "source": [
    "degree_articles_ccdf_x, degree_articles_ccdf_y = ccdf(biadj_articles_degrees)\n",
    "degree_words_ccdf_x, degree_words_ccdf_y = ccdf(biadj_words_degrees)\n",
    "\n",
    "\n",
    "plt.loglog(degree_articles_ccdf_x, degree_articles_ccdf_y, label=\"Articles\")\n",
    "plt.loglog(degree_words_ccdf_x, degree_words_ccdf_y, label=\"Words\")\n",
    "plt.xlabel(\"k\")\n",
    "plt.ylabel(\"Fraction of nodes having degree >= k\")\n",
    "plt.legend()"
   ]
  },
  {
   "cell_type": "markdown",
   "metadata": {},
   "source": [
    "### Global density\n",
    "\n",
    "* Compute the density of the Wikivitals graphs *(careful, one of the graphs is bipartite)*"
   ]
  },
  {
   "cell_type": "markdown",
   "metadata": {},
   "source": [
    "Remember that the density for a graph $G=(V,E)$ is $\\delta(G) = \\frac{2|E|}{|V|(|V|-1)}$. This corresponds to the number of edges divided to the number of possible edges with $|V|$ nodes. In the bipartite case, not all nodes can be linked together (this is what bipartite means: edges involve one node of each \"category\"). So, given a bipartite graph $B=(\\top, \\bot, E)$, the density value is $\\delta(B) = \\frac{2|E|}{|\\top||\\bot|}$."
   ]
  },
  {
   "cell_type": "code",
   "execution_count": 27,
   "metadata": {},
   "outputs": [
    {
     "data": {
      "text/plain": [
       "(0.007902723304804187, 0.003175702613429348)"
      ]
     },
     "execution_count": 27,
     "metadata": {},
     "output_type": "execute_result"
    }
   ],
   "source": [
    "density_adj = adjacency.nnz / (adjacency.shape[0] * (adjacency.shape[0]-1))\n",
    "density_biadj = biadjacency.nnz / (biadjacency.shape[0] * biadjacency.shape[1])\n",
    "\n",
    "density_adj, density_biadj"
   ]
  },
  {
   "cell_type": "markdown",
   "metadata": {},
   "source": [
    "Notice that this density is very low, which is a typical property of real world graphs, as we saw during the lecture."
   ]
  },
  {
   "cell_type": "markdown",
   "metadata": {},
   "source": [
    "## Traversal\n",
    "\n",
    "* Code a Breadth-First Search traversal\n",
    "* Adapt your code to a Depth-First Search traversal\n",
    "* Apply it to the two graphs"
   ]
  },
  {
   "cell_type": "code",
   "execution_count": 85,
   "metadata": {},
   "outputs": [
    {
     "data": {
      "text/plain": [
       "1956"
      ]
     },
     "execution_count": 85,
     "metadata": {},
     "output_type": "execute_result"
    }
   ],
   "source": [
    "def bfs(graph, source=None):\n",
    "    \"\"\"\n",
    "        Given a graph, returns a list of nodes corresponding to a\n",
    "        Breadth-First search traversal. If source is None, pick a node randomly.\n",
    "    \"\"\"\n",
    "    from collections import deque # Let us use a queue structure\n",
    "    \n",
    "    result = [] # We'll store the result here\n",
    "    seen_nodes = set() # To keep track of nodes we have already seen\n",
    "    nodes_to_consider = deque()\n",
    "    \n",
    "    if source is None:\n",
    "        source = 0\n",
    "    nodes_to_consider.append(source)\n",
    "    \n",
    "    while len(nodes_to_consider) > 0:\n",
    "        # Let's take the first node, add it to the result and to the list of seen nodes\n",
    "        curr_node = nodes_to_consider.popleft()\n",
    "        result.append(curr_node)\n",
    "        seen_nodes.add(curr_node)\n",
    "        \n",
    "        # Now, let's add each neighbour of curr_node that we have not already seen to nodes_to_consider.\n",
    "        # We can get the neighbours efficiently thanks to the CSR matrix format and its \"indptr\" array.\n",
    "        # Check the lecture slides and video again if the next line looks completely arcane to you! :) \n",
    "        for neighbour in graph.indices[graph.indptr[curr_node]:graph.indptr[i+1]]:\n",
    "            if neighbour not in seen_nodes:\n",
    "                nodes_to_consider.append(neighbour)\n",
    "\n",
    "    return result\n",
    "\n",
    "res = bfs(adjacency)\n",
    "len(res)"
   ]
  },
  {
   "cell_type": "markdown",
   "metadata": {},
   "source": [
    "Notice here that the number of nodes at the end of the BFS is not the same as the number of nodes in the graph. This is because we only enumerated one connected component, and then stopped. Below is a more general code, that will restart until there are truly no more nodes to consider."
   ]
  },
  {
   "cell_type": "code",
   "execution_count": 96,
   "metadata": {},
   "outputs": [
    {
     "data": {
      "text/plain": [
       "10012"
      ]
     },
     "execution_count": 96,
     "metadata": {},
     "output_type": "execute_result"
    }
   ],
   "source": [
    "def general_bfs(graph, source=None):\n",
    "    \"\"\"\n",
    "        Given a graph, returns a list of nodes corresponding to a\n",
    "        Breadth-First search traversal. If source is None, pick a node randomly.\n",
    "    \"\"\"\n",
    "    from collections import deque # Let us use a queue structure\n",
    "    \n",
    "    result = [] # We'll store the result here\n",
    "    seen_nodes = set() # To keep track of nodes we have already seen\n",
    "    nodes_to_consider = deque()\n",
    "    \n",
    "    all_nodes = [ i for i in range(len(graph.indptr) - 1)] # We know that graph.indptr has size |V|+1\n",
    "    \n",
    "    if source is None:\n",
    "        source = 0\n",
    "    nodes_to_consider.append(source)\n",
    "    \n",
    "    while len(nodes_to_consider) > 0 or len(seen_nodes) != len(all_nodes):\n",
    "        # Let's take the first node, add it to the result and to the list of seen nodes\n",
    "        if len(nodes_to_consider) > 0:\n",
    "            curr_node = nodes_to_consider.popleft()\n",
    "        else:\n",
    "            # We reached the end of a connected component, let us pick a new source\n",
    "            curr_node = [ i for i in all_nodes if i not in seen_nodes ][0]\n",
    "        if curr_node not in seen_nodes:\n",
    "            result.append(curr_node)\n",
    "        seen_nodes.add(curr_node)\n",
    "        \n",
    "        # Now, let's add each neighbour of curr_node that we have not already seen to nodes_to_consider.\n",
    "        # We can get the neighbours efficiently thanks to the CSR matrix format and its \"indptr\" array.\n",
    "        # Check the lecture slides and video again if the next line looks completely arcane to you! :) \n",
    "        for neighbour in graph.indices[graph.indptr[curr_node]:graph.indptr[i+1]]:\n",
    "            if neighbour not in seen_nodes:\n",
    "                nodes_to_consider.append(neighbour)\n",
    "\n",
    "    return result\n",
    "\n",
    "res = general_bfs(adjacency)\n",
    "len(res)"
   ]
  },
  {
   "cell_type": "markdown",
   "metadata": {},
   "source": [
    "## PageRank"
   ]
  },
  {
   "cell_type": "markdown",
   "metadata": {},
   "source": [
    "The [PageRank](https://en.wikipedia.org/wiki/PageRank) algorithm can be used to recommend nodes (here articles) close to some target."
   ]
  },
  {
   "cell_type": "markdown",
   "metadata": {},
   "source": [
    "## To do \n",
    "\n",
    "Using the 2 graphs (links, words):\n",
    "* List the 10 articles the closest to some target of your choice (e.g., Vincent van Gogh).\n",
    "* For the word graphs, list the 10 closest words of this target.\n",
    "* Do the same with multiple targets."
   ]
  },
  {
   "cell_type": "code",
   "execution_count": 29,
   "metadata": {},
   "outputs": [],
   "source": [
    "pr = skn.ranking.PageRank()"
   ]
  },
  {
   "cell_type": "code",
   "execution_count": 39,
   "metadata": {},
   "outputs": [],
   "source": [
    "target = node_index['Frida Kahlo']"
   ]
  },
  {
   "cell_type": "code",
   "execution_count": 40,
   "metadata": {},
   "outputs": [
    {
     "data": {
      "text/plain": [
       "PageRank(damping_factor=0.85, solver='piteration', n_iter=10, tol=1e-06)"
      ]
     },
     "execution_count": 40,
     "metadata": {},
     "output_type": "execute_result"
    }
   ],
   "source": [
    "pr.fit(adjacency, seeds={target:1})"
   ]
  },
  {
   "cell_type": "markdown",
   "metadata": {},
   "source": [
    "Now that we have trained our PageRank, we want the index of the pages that have the highest PageRank score. Just sorting the `pr.scores_` array would not be good enough (we would have the value of the highest scores, but lose the pages indices). Instead, we use `np.argsort`, that returns an array of indices sorted corresponding to their value in the original array. We then keep the last 10 values (the highest ones)."
   ]
  },
  {
   "cell_type": "code",
   "execution_count": 41,
   "metadata": {},
   "outputs": [
    {
     "data": {
      "text/plain": [
       "['Surrealism',\n",
       " 'Cubism',\n",
       " 'Museum of Modern Art',\n",
       " 'Time (magazine)',\n",
       " 'Pablo Picasso',\n",
       " 'Mexico',\n",
       " 'Encyclopædia Britannica',\n",
       " 'New York City',\n",
       " 'Bibliothèque nationale de France',\n",
       " 'Frida Kahlo']"
      ]
     },
     "execution_count": 41,
     "metadata": {},
     "output_type": "execute_result"
    }
   ],
   "source": [
    "high_pr_names = [ names[x] for x in np.argsort(pr.scores_)[-10:] ]\n",
    "high_pr_names"
   ]
  },
  {
   "cell_type": "markdown",
   "metadata": {},
   "source": [
    "We cannot straightforwardly do the same for the words graphs, as it is bipartite (and so the adjacency matric is not square, a key requirement of PageRank). Instead, we can modify the matrix into the \"mirror graph\" that we saw during the lecture, i.e. for a graph with adjacency matrix $A$, its mirror graph $B$ is:\n",
    "\n",
    "$$\n",
    "B = \\begin{bmatrix}\n",
    "0 & A \\\\\n",
    "A^T & 0\n",
    "\\end{bmatrix}\n",
    "$$\n",
    "\n",
    "where $A^T$ is the transpose of $A$. This works because adding $0$s does not change the links of the graph. Thankfully, we do not have to implement this transformation ourselves, as `scikit-network` gives us a `BiPageRank` object that does exactly this. However, we need a slight adaptation to the seeds map, to separate seeds on the two types of nodes in the bipartite graph."
   ]
  },
  {
   "cell_type": "code",
   "execution_count": 42,
   "metadata": {},
   "outputs": [
    {
     "data": {
      "text/plain": [
       "['Mexican–American War',\n",
       " 'Feminism',\n",
       " 'Marius Petipa',\n",
       " 'Benito Juárez',\n",
       " 'Bartolomé de las Casas',\n",
       " 'Carmen',\n",
       " 'Mexican Revolution',\n",
       " 'History of Mexico',\n",
       " 'Diego Rivera',\n",
       " 'Frida Kahlo']"
      ]
     },
     "execution_count": 42,
     "metadata": {},
     "output_type": "execute_result"
    }
   ],
   "source": [
    "bi_pr = skn.ranking.BiPageRank()\n",
    "target = node_index['Frida Kahlo']\n",
    "bi_pr.fit(biadjacency, seeds_row={target:1})\n",
    "high_bipr_names = [ names[x] for x in np.argsort(bi_pr.scores_)[-10:] ]\n",
    "high_bipr_names"
   ]
  },
  {
   "cell_type": "markdown",
   "metadata": {},
   "source": [
    "Let us just do the same again with another page, just to see how the results are different thanks to personalized PageRank. :) The full list of pages in the WikiVitals graph is here: [https://en.wikipedia.org/wiki/Wikipedia:Vital_articles/Level/4](https://en.wikipedia.org/wiki/Wikipedia:Vital_articles/Level/4)"
   ]
  },
  {
   "cell_type": "code",
   "execution_count": 47,
   "metadata": {},
   "outputs": [
    {
     "data": {
      "text/plain": [
       "(['Physics',\n",
       "  'Algebraic geometry',\n",
       "  'Abstract algebra',\n",
       "  'Integer',\n",
       "  'Field (mathematics)',\n",
       "  'Set (mathematics)',\n",
       "  'Real number',\n",
       "  'Bibliothèque nationale de France',\n",
       "  'Mathematics',\n",
       "  'Emmy Noether'],\n",
       " ['Lagrangian mechanics',\n",
       "  'Representation theory',\n",
       "  'Katharine Hepburn',\n",
       "  'Algebraic geometry',\n",
       "  'Compact space',\n",
       "  'Max Born',\n",
       "  'Ring (mathematics)',\n",
       "  'Nuremberg',\n",
       "  'Ring theory',\n",
       "  'Emmy Noether'])"
      ]
     },
     "execution_count": 47,
     "metadata": {},
     "output_type": "execute_result"
    }
   ],
   "source": [
    "page_name = \"Emmy Noether\" \n",
    "target = node_index[page_name]\n",
    "pr.fit(adjacency, seeds={target:1})\n",
    "bi_pr.fit(biadjacency, seeds_row={target:1})\n",
    "high_pr_names = [ names[x] for x in np.argsort(pr.scores_)[-10:] ]\n",
    "high_bipr_names = [ names[x] for x in np.argsort(bi_pr.scores_)[-10:] ]\n",
    "\n",
    "high_pr_names, high_bipr_names"
   ]
  },
  {
   "cell_type": "markdown",
   "metadata": {},
   "source": [
    "## Community detection"
   ]
  },
  {
   "cell_type": "markdown",
   "metadata": {},
   "source": [
    "## To do\n",
    "\n",
    "For the 2 graphs:\n",
    "* Cluster the graph.\n",
    "* Display the 5 most important nodes of each cluster (in terms of PageRank).\n",
    "* Evaluate the quality of the clustering using the categories as ground-truth."
   ]
  },
  {
   "cell_type": "code",
   "execution_count": 52,
   "metadata": {},
   "outputs": [],
   "source": [
    "from sklearn.metrics import adjusted_rand_score as ari"
   ]
  },
  {
   "cell_type": "code",
   "execution_count": 53,
   "metadata": {},
   "outputs": [],
   "source": [
    "louvain = skn.clustering.Louvain()"
   ]
  },
  {
   "cell_type": "code",
   "execution_count": 54,
   "metadata": {},
   "outputs": [
    {
     "data": {
      "text/plain": [
       "Louvain(resolution=1.0, modularity='dugue', tol_aggregation=0.001, n_aggregations=-1, shuffle_nodes=False, sort_clusters=True, return_membership=True, return_aggregate=True)"
      ]
     },
     "execution_count": 54,
     "metadata": {},
     "output_type": "execute_result"
    }
   ],
   "source": [
    "louvain.fit(adjacency)"
   ]
  },
  {
   "cell_type": "markdown",
   "metadata": {},
   "source": [
    "Fortunately, the code for clustering the graph is already written for us. A bit of exploration shows us that the clustering results are held into the `labels_` array (the integer at index $i$ is the cluster of node $i$). Let us run a non-personalized pagerank on the whole graph, then filter pages by cluster."
   ]
  },
  {
   "cell_type": "code",
   "execution_count": 71,
   "metadata": {},
   "outputs": [
    {
     "data": {
      "text/plain": [
       "PageRank(damping_factor=0.85, solver='piteration', n_iter=10, tol=1e-06)"
      ]
     },
     "execution_count": 71,
     "metadata": {},
     "output_type": "execute_result"
    }
   ],
   "source": [
    "pr = skn.ranking.PageRank()\n",
    "pr.fit(adjacency)"
   ]
  },
  {
   "cell_type": "code",
   "execution_count": 74,
   "metadata": {},
   "outputs": [
    {
     "name": "stdout",
     "output_type": "stream",
     "text": [
      "Cluster 0\n",
      "['Oxford English Dictionary', 'Bacteria', 'Protein', 'Animal', 'Taxonomy (biology)']\n",
      "Cluster 1\n",
      "['Physics', 'Nature (journal)', 'Mathematics', 'Earth', 'Oxygen']\n",
      "Cluster 2\n",
      "['China', 'India', 'France', 'Geographic coordinate system', 'United States']\n",
      "Cluster 3\n",
      "['Islam', 'Middle Ages', 'Christianity', 'Greek language', 'Latin']\n",
      "Cluster 4\n",
      "['North America', 'British Empire', 'Russian Empire', 'Ottoman Empire', 'Europe']\n",
      "Cluster 5\n",
      "['Time (magazine)', 'BBC', 'Encyclopædia Britannica', 'The New York Times', 'Bibliothèque nationale de France']\n"
     ]
    },
    {
     "data": {
      "text/plain": [
       "1"
      ]
     },
     "execution_count": 74,
     "metadata": {},
     "output_type": "execute_result"
    }
   ],
   "source": [
    "pr_scores_indices = np.argsort(pr.scores_)\n",
    "\n",
    "nb_clusters = max(louvain.labels_) # The maximum value is the number of clusters\n",
    "\n",
    "# Let us iterate on each cluster, keep only the nodes from said cluster, and sorte them to keep only the maximum 5 scores\n",
    "for i in range(nb_clusters):\n",
    "    current_cluster = []\n",
    "    for u in pr_scores_indices:\n",
    "        if louvain.labels_[u] == i:\n",
    "            # Keep onl the current cluster\n",
    "            current_cluster.append(u)\n",
    "    # The scores are already sorted, let's keep keep the last five elements, and use the \"names\" array to display the page names rather than the indices. :) \n",
    "    print(f\"Cluster {i}\")\n",
    "    print([names[x] for x in current_cluster[-5:]])\n",
    "\n",
    "louvain.labels_[node_index[page_name]]"
   ]
  },
  {
   "cell_type": "markdown",
   "metadata": {},
   "source": [
    "Finally, we know that the categories of each page are stored in the `labels` array (see the beginning of this notebook). We want to evaluate to which extent the clusters correspond to the categories of the Wikivitals dataset. We here use the [Adjusted Rand Index](https://en.wikipedia.org/wiki/Rand_index#Adjusted_Rand_index), which compares the clustering to a ground through while correcting for sheer luck. It is a score between $0$ and $1$."
   ]
  },
  {
   "cell_type": "code",
   "execution_count": 69,
   "metadata": {},
   "outputs": [
    {
     "data": {
      "text/plain": [
       "0.3018954851357631"
      ]
     },
     "execution_count": 69,
     "metadata": {},
     "output_type": "execute_result"
    }
   ],
   "source": [
    "ari(labels, louvain.labels_)"
   ]
  },
  {
   "cell_type": "markdown",
   "metadata": {},
   "source": [
    "One last point, you might wonder what \"$0.30$\" ARI means in this context; is it good? Is it meh? This is a legitimate question, that has no absolute answer. Some elements of answer: \n",
    "\n",
    "- One could compare Louvain to other algorithms, and decide that Louvain is \"good\" if the ARI is better than with other methods. This could be summed up as \"all clustering methods are bad, Louvain is just _less bad_\".\n",
    "- Another possibility is to explore the mismatches between the ground truth and the labels, for example via a confusion matrix, and see if the errors are acceptable, or explainable.\n"
   ]
  }
 ],
 "metadata": {
  "kernelspec": {
   "display_name": "Python 3",
   "language": "python",
   "name": "python3"
  },
  "language_info": {
   "codemirror_mode": {
    "name": "ipython",
    "version": 3
   },
   "file_extension": ".py",
   "mimetype": "text/x-python",
   "name": "python",
   "nbconvert_exporter": "python",
   "pygments_lexer": "ipython3",
   "version": "3.8.3"
  }
 },
 "nbformat": 4,
 "nbformat_minor": 4
}
