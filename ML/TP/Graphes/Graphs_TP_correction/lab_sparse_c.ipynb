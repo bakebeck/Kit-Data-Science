{
 "cells": [
  {
   "cell_type": "markdown",
   "metadata": {
    "id": "cMN5FDW7RyKG"
   },
   "source": [
    "# MDI343 - Machine Learning on Graphs\n",
    "\n",
    "# Sparse matrices"
   ]
  },
  {
   "cell_type": "code",
   "execution_count": null,
   "metadata": {
    "colab": {
     "base_uri": "https://localhost:8080/"
    },
    "id": "qbeLAX7oR0kL",
    "outputId": "3a99001a-2f26-49cc-ea7e-1c5ccc90aa16"
   },
   "outputs": [
    {
     "name": "stdout",
     "output_type": "stream",
     "text": [
      "Collecting scikit-network\n",
      "\u001b[?25l  Downloading https://files.pythonhosted.org/packages/62/3c/29be62d3c66d232b138fb4a05d4fc936ec770685f7a7701007110c89b506/scikit_network-0.20.0-cp36-cp36m-manylinux2010_x86_64.whl (7.5MB)\n",
      "\u001b[K     |████████████████████████████████| 7.5MB 3.8MB/s \n",
      "\u001b[?25hRequirement already satisfied: scipy>=1.4.1 in /usr/local/lib/python3.6/dist-packages (from scikit-network) (1.4.1)\n",
      "Requirement already satisfied: numpy>=1.18.3 in /usr/local/lib/python3.6/dist-packages (from scikit-network) (1.19.4)\n",
      "Installing collected packages: scikit-network\n",
      "Successfully installed scikit-network-0.20.0\n"
     ]
    }
   ],
   "source": [
    " pip install scikit-network"
   ]
  },
  {
   "cell_type": "code",
   "execution_count": null,
   "metadata": {
    "colab": {
     "base_uri": "https://localhost:8080/"
    },
    "id": "XDJ3Q5WAR_Wy",
    "outputId": "90e819b4-0081-4757-9923-f3b33c854a7c"
   },
   "outputs": [
    {
     "name": "stdout",
     "output_type": "stream",
     "text": [
      "Collecting dgl\n",
      "\u001b[?25l  Downloading https://files.pythonhosted.org/packages/46/62/da7146c0e46f93dd1f17cccea3010def155a1f479c0b036b604e952f321f/dgl-0.5.3-cp36-cp36m-manylinux1_x86_64.whl (3.6MB)\n",
      "\u001b[K     |████████████████████████████████| 3.6MB 4.2MB/s \n",
      "\u001b[?25hRequirement already satisfied: scipy>=1.1.0 in /usr/local/lib/python3.6/dist-packages (from dgl) (1.4.1)\n",
      "Requirement already satisfied: requests>=2.19.0 in /usr/local/lib/python3.6/dist-packages (from dgl) (2.23.0)\n",
      "Requirement already satisfied: networkx>=2.1 in /usr/local/lib/python3.6/dist-packages (from dgl) (2.5)\n",
      "Requirement already satisfied: numpy>=1.14.0 in /usr/local/lib/python3.6/dist-packages (from dgl) (1.19.4)\n",
      "Requirement already satisfied: chardet<4,>=3.0.2 in /usr/local/lib/python3.6/dist-packages (from requests>=2.19.0->dgl) (3.0.4)\n",
      "Requirement already satisfied: idna<3,>=2.5 in /usr/local/lib/python3.6/dist-packages (from requests>=2.19.0->dgl) (2.10)\n",
      "Requirement already satisfied: urllib3!=1.25.0,!=1.25.1,<1.26,>=1.21.1 in /usr/local/lib/python3.6/dist-packages (from requests>=2.19.0->dgl) (1.24.3)\n",
      "Requirement already satisfied: certifi>=2017.4.17 in /usr/local/lib/python3.6/dist-packages (from requests>=2.19.0->dgl) (2020.12.5)\n",
      "Requirement already satisfied: decorator>=4.3.0 in /usr/local/lib/python3.6/dist-packages (from networkx>=2.1->dgl) (4.4.2)\n",
      "Installing collected packages: dgl\n",
      "Successfully installed dgl-0.5.3\n"
     ]
    }
   ],
   "source": [
    "pip install dgl"
   ]
  },
  {
   "cell_type": "markdown",
   "metadata": {
    "id": "41P_ZvXwRyKN"
   },
   "source": [
    "The objective of this lab is to learn to work with sparse matrices."
   ]
  },
  {
   "cell_type": "code",
   "execution_count": null,
   "metadata": {
    "id": "zWLB5TZORyKO"
   },
   "outputs": [],
   "source": [
    "import numpy as np\n",
    "from scipy import sparse\n",
    "from matplotlib import pyplot as plt"
   ]
  },
  {
   "cell_type": "markdown",
   "metadata": {
    "id": "0KJvfQk1RyKO"
   },
   "source": [
    "## CSR format"
   ]
  },
  {
   "cell_type": "markdown",
   "metadata": {
    "id": "fJyblYQsRyKP"
   },
   "source": [
    "We first focus on the [CSR](https://docs.scipy.org/doc/scipy/reference/generated/scipy.sparse.csr_matrix.html)  (Compressed Sparse Row) format. Note that there is the [CSC](https://docs.scipy.org/doc/scipy/reference/generated/scipy.sparse.csc_matrix.html) (Compressed Sparse Column) format, which is nothing but the CSR format of the transpose matrix."
   ]
  },
  {
   "cell_type": "code",
   "execution_count": null,
   "metadata": {
    "id": "SbDim9X9RyKP"
   },
   "outputs": [],
   "source": [
    "# random matrix (dense format)\n",
    "X_dense = np.random.randint(3, size = (10,5))"
   ]
  },
  {
   "cell_type": "code",
   "execution_count": null,
   "metadata": {
    "colab": {
     "base_uri": "https://localhost:8080/"
    },
    "id": "SBt7G-DsUYVK",
    "outputId": "9f820c7d-ee99-4026-c89c-3bf4dcaf54e7"
   },
   "outputs": [
    {
     "data": {
      "text/plain": [
       "array([[1, 0, 0, 2, 2],\n",
       "       [1, 0, 1, 1, 1],\n",
       "       [0, 0, 1, 1, 1],\n",
       "       [2, 1, 2, 2, 2],\n",
       "       [1, 0, 2, 2, 2],\n",
       "       [2, 2, 1, 1, 2],\n",
       "       [1, 2, 2, 0, 1],\n",
       "       [1, 2, 2, 2, 1],\n",
       "       [0, 1, 0, 0, 0],\n",
       "       [0, 0, 2, 0, 2]])"
      ]
     },
     "execution_count": 6,
     "metadata": {
      "tags": []
     },
     "output_type": "execute_result"
    }
   ],
   "source": [
    "X_dense"
   ]
  },
  {
   "cell_type": "code",
   "execution_count": null,
   "metadata": {
    "colab": {
     "base_uri": "https://localhost:8080/",
     "height": 265
    },
    "id": "ECNK0QgrRyKQ",
    "outputId": "9634c53b-1f27-4e57-f98d-9f15e4097511"
   },
   "outputs": [
    {
     "data": {
      "image/png": "[encoded data removed]",
      "text/plain": [
       "<Figure size 432x288 with 1 Axes>"
      ]
     },
     "metadata": {
      "needs_background": "light",
      "tags": []
     },
     "output_type": "display_data"
    }
   ],
   "source": [
    "plt.imshow(X_dense, cmap='binary')\n",
    "plt.show()"
   ]
  },
  {
   "cell_type": "code",
   "execution_count": null,
   "metadata": {
    "id": "V_ogF40XRyKQ"
   },
   "outputs": [],
   "source": [
    "X_csr = sparse.csr_matrix(X_dense)"
   ]
  },
  {
   "cell_type": "code",
   "execution_count": null,
   "metadata": {
    "colab": {
     "base_uri": "https://localhost:8080/"
    },
    "id": "FjMn1VPaRyKQ",
    "outputId": "d5b60233-e70e-46a1-f478-e175900a9c8d"
   },
   "outputs": [
    {
     "data": {
      "text/plain": [
       "<10x5 sparse matrix of type '<class 'numpy.longlong'>'\n",
       "\twith 36 stored elements in Compressed Sparse Row format>"
      ]
     },
     "execution_count": 8,
     "metadata": {
      "tags": []
     },
     "output_type": "execute_result"
    }
   ],
   "source": [
    "X_csr"
   ]
  },
  {
   "cell_type": "code",
   "execution_count": null,
   "metadata": {
    "colab": {
     "base_uri": "https://localhost:8080/"
    },
    "id": "QVT-jehVRyKR",
    "outputId": "fa226889-a6b2-4f17-a188-17b693636990"
   },
   "outputs": [
    {
     "data": {
      "text/plain": [
       "(10, 5)"
      ]
     },
     "execution_count": 9,
     "metadata": {
      "tags": []
     },
     "output_type": "execute_result"
    }
   ],
   "source": [
    "X_csr.shape"
   ]
  },
  {
   "cell_type": "code",
   "execution_count": null,
   "metadata": {
    "colab": {
     "base_uri": "https://localhost:8080/"
    },
    "id": "V3ZrQjw2RyKR",
    "outputId": "b3d38019-b20a-4932-9a12-b927b9074720"
   },
   "outputs": [
    {
     "data": {
      "text/plain": [
       "36"
      ]
     },
     "execution_count": 10,
     "metadata": {
      "tags": []
     },
     "output_type": "execute_result"
    }
   ],
   "source": [
    "X_csr.nnz # nombres d'entrée non nulles"
   ]
  },
  {
   "cell_type": "markdown",
   "metadata": {
    "id": "l_KLAMOtRyKR"
   },
   "source": [
    "The data structure consists of 3 vectors:"
   ]
  },
  {
   "cell_type": "code",
   "execution_count": null,
   "metadata": {
    "colab": {
     "base_uri": "https://localhost:8080/"
    },
    "id": "ZcQ2B2UARyKS",
    "outputId": "e88983d6-e8d6-44eb-fc35-d033cbc80034"
   },
   "outputs": [
    {
     "data": {
      "text/plain": [
       "array([0, 3, 4, 0, 2, 3, 4, 2, 3, 4, 0, 1, 2, 3, 4, 0, 2, 3, 4, 0, 1, 2,\n",
       "       3, 4, 0, 1, 2, 4, 0, 1, 2, 3, 4, 1, 2, 4], dtype=int32)"
      ]
     },
     "execution_count": 11,
     "metadata": {
      "tags": []
     },
     "output_type": "execute_result"
    }
   ],
   "source": [
    "X_csr.indices"
   ]
  },
  {
   "cell_type": "code",
   "execution_count": null,
   "metadata": {
    "colab": {
     "base_uri": "https://localhost:8080/"
    },
    "id": "XIvXfWjIRyKS",
    "outputId": "f4a951ed-403f-4477-caa1-b435bcda0e02"
   },
   "outputs": [
    {
     "data": {
      "text/plain": [
       "array([ 0,  3,  7, 10, 15, 19, 24, 28, 33, 34, 36], dtype=int32)"
      ]
     },
     "execution_count": 12,
     "metadata": {
      "tags": []
     },
     "output_type": "execute_result"
    }
   ],
   "source": [
    "X_csr.indptr"
   ]
  },
  {
   "cell_type": "code",
   "execution_count": null,
   "metadata": {
    "id": "G77Ogu0LVGBl"
   },
   "outputs": [],
   "source": []
  },
  {
   "cell_type": "code",
   "execution_count": null,
   "metadata": {
    "colab": {
     "base_uri": "https://localhost:8080/"
    },
    "id": "F6FhSdp_RyKS",
    "outputId": "136ea3da-387e-4801-dbc3-00bde569b685"
   },
   "outputs": [
    {
     "data": {
      "text/plain": [
       "array([1, 2, 2, 1, 1, 1, 1, 1, 1, 1, 2, 1, 2, 2, 2, 1, 2, 2, 2, 2, 2, 1,\n",
       "       1, 2, 1, 2, 2, 1, 1, 2, 2, 2, 1, 1, 2, 2], dtype=int64)"
      ]
     },
     "execution_count": 13,
     "metadata": {
      "tags": []
     },
     "output_type": "execute_result"
    }
   ],
   "source": [
    "X_csr.data"
   ]
  },
  {
   "cell_type": "markdown",
   "metadata": {
    "id": "Uw4nf1CnRyKT"
   },
   "source": [
    "Changing these vectors changes the matrix:"
   ]
  },
  {
   "cell_type": "code",
   "execution_count": null,
   "metadata": {
    "id": "LBjEOLmRRyKT"
   },
   "outputs": [],
   "source": [
    "X_csr.data = np.ones_like(X_csr.data, dtype=int)"
   ]
  },
  {
   "cell_type": "code",
   "execution_count": null,
   "metadata": {
    "colab": {
     "base_uri": "https://localhost:8080/"
    },
    "id": "i8zfKYIIRyKT",
    "outputId": "4eb91cd7-52a8-4907-d7b9-1b7212e1b964"
   },
   "outputs": [
    {
     "data": {
      "text/plain": [
       "array([[1, 0, 0, 1, 1],\n",
       "       [1, 0, 1, 1, 1],\n",
       "       [0, 0, 1, 1, 1],\n",
       "       [1, 1, 1, 1, 1],\n",
       "       [1, 0, 1, 1, 1],\n",
       "       [1, 1, 1, 1, 1],\n",
       "       [1, 1, 1, 0, 1],\n",
       "       [1, 1, 1, 1, 1],\n",
       "       [0, 1, 0, 0, 0],\n",
       "       [0, 0, 1, 0, 1]])"
      ]
     },
     "execution_count": 15,
     "metadata": {
      "tags": []
     },
     "output_type": "execute_result"
    }
   ],
   "source": [
    "np.array(X_csr.todense()) # eviter de faire avec des matrices n*n avec n = 1000000"
   ]
  },
  {
   "cell_type": "markdown",
   "metadata": {
    "id": "Vo4l01hvRyKU"
   },
   "source": [
    "## To do"
   ]
  },
  {
   "cell_type": "markdown",
   "metadata": {
    "id": "2EmO65uURyKU"
   },
   "source": [
    "* Modify the ``data`` vector so that the first row contains only zeros.\n",
    "* Check the result using the dense version of the matrix.\n",
    "* Observe the ``nnz`` attribute and comment. \n",
    "* Use the method ``eliminate_zeros`` to restore the proper CSR format of the matrix."
   ]
  },
  {
   "cell_type": "code",
   "execution_count": null,
   "metadata": {
    "id": "Wx82MFTyRyKU"
   },
   "outputs": [],
   "source": [
    "X_csr.eliminate_zeros()"
   ]
  },
  {
   "cell_type": "markdown",
   "metadata": {
    "id": "0Xd7wLrcRyKV"
   },
   "source": [
    "## Arithmetic"
   ]
  },
  {
   "cell_type": "markdown",
   "metadata": {
    "id": "WBLLDod3RyKV"
   },
   "source": [
    "Usual arithmetic operations apply to sparse matrices. The only contraint is to have the sparse matrix on the left-hand side of the operator."
   ]
  },
  {
   "cell_type": "code",
   "execution_count": null,
   "metadata": {
    "id": "kws6E68oRyKV"
   },
   "outputs": [],
   "source": [
    "n_row, n_col = 18, 3\n",
    "X_dense = np.random.randint(2, size = (n_row, n_col))\n",
    "X = sparse.csr_matrix(X_dense)"
   ]
  },
  {
   "cell_type": "code",
   "execution_count": null,
   "metadata": {
    "colab": {
     "base_uri": "https://localhost:8080/"
    },
    "id": "IYnxlg8XZwar",
    "outputId": "33ff97c5-da47-4f7d-c6f6-e27cd3c436d4"
   },
   "outputs": [
    {
     "data": {
      "text/plain": [
       "<18x3 sparse matrix of type '<class 'numpy.longlong'>'\n",
       "\twith 25 stored elements in Compressed Sparse Row format>"
      ]
     },
     "execution_count": 18,
     "metadata": {
      "tags": []
     },
     "output_type": "execute_result"
    }
   ],
   "source": [
    "X"
   ]
  },
  {
   "cell_type": "code",
   "execution_count": null,
   "metadata": {
    "colab": {
     "base_uri": "https://localhost:8080/",
     "height": 320
    },
    "id": "nTt3cdjxRyKV",
    "outputId": "8ba66931-4421-4010-de05-dcfff0cfe5b6"
   },
   "outputs": [
    {
     "data": {
      "image/png": "[encoded data removed]",
      "text/plain": [
       "<Figure size 360x360 with 1 Axes>"
      ]
     },
     "metadata": {
      "needs_background": "light",
      "tags": []
     },
     "output_type": "display_data"
    }
   ],
   "source": [
    "plt.figure(figsize=(5, 5))\n",
    "plt.imshow(X_dense, cmap='binary')\n",
    "plt.show()"
   ]
  },
  {
   "cell_type": "code",
   "execution_count": null,
   "metadata": {
    "id": "fQaHy8FQRyKW",
    "scrolled": false
   },
   "outputs": [],
   "source": [
    "a = np.ones(n_col)\n",
    "b = X.dot(a)"
   ]
  },
  {
   "cell_type": "code",
   "execution_count": null,
   "metadata": {
    "colab": {
     "base_uri": "https://localhost:8080/",
     "height": 320
    },
    "id": "oPH9cGVfRyKW",
    "outputId": "f9df1831-6602-4711-f9a8-25aa07093e4d"
   },
   "outputs": [
    {
     "data": {
      "image/png": "[encoded data removed]",
      "text/plain": [
       "<Figure size 360x360 with 2 Axes>"
      ]
     },
     "metadata": {
      "needs_background": "light",
      "tags": []
     },
     "output_type": "display_data"
    }
   ],
   "source": [
    "fig, (ax1, ax2) = plt.subplots(1, 2, figsize=(5,5))\n",
    "ax1.imshow(X_dense, cmap='binary')\n",
    "ax2.imshow(b.reshape(-1, 1), cmap='binary')\n",
    "plt.show()"
   ]
  },
  {
   "cell_type": "code",
   "execution_count": null,
   "metadata": {
    "colab": {
     "base_uri": "https://localhost:8080/"
    },
    "id": "q5pbBn-QZ6kf",
    "outputId": "b7e401b0-d394-45af-dd1a-22ed7cb11786"
   },
   "outputs": [
    {
     "data": {
      "text/plain": [
       "<3x18 sparse matrix of type '<class 'numpy.longlong'>'\n",
       "\twith 25 stored elements in Compressed Sparse Column format>"
      ]
     },
     "execution_count": 21,
     "metadata": {
      "tags": []
     },
     "output_type": "execute_result"
    }
   ],
   "source": [
    "X.T"
   ]
  },
  {
   "cell_type": "code",
   "execution_count": null,
   "metadata": {
    "colab": {
     "base_uri": "https://localhost:8080/"
    },
    "id": "sI5HKRrUaUAi",
    "outputId": "93d9535d-945d-45e6-a0d4-984c1e3756c6"
   },
   "outputs": [
    {
     "data": {
      "text/plain": [
       "array([0, 2, 0, 0, 2, 2, 0, 1, 1, 0, 1, 2, 1, 0, 0, 2, 0, 1, 2, 2, 0, 1,\n",
       "       2, 0, 1], dtype=int32)"
      ]
     },
     "execution_count": 22,
     "metadata": {
      "tags": []
     },
     "output_type": "execute_result"
    }
   ],
   "source": [
    "X.T.indices"
   ]
  },
  {
   "cell_type": "code",
   "execution_count": null,
   "metadata": {
    "id": "6Imb7NQoRyKW"
   },
   "outputs": [],
   "source": [
    "a = np.ones(n_row)\n",
    "b = X.T.dot(a)"
   ]
  },
  {
   "cell_type": "code",
   "execution_count": null,
   "metadata": {
    "id": "9WH92W_gRyKW"
   },
   "outputs": [],
   "source": [
    "A = np.random.randint(2, size = (n_col, 2))\n",
    "B = X.dot(A)"
   ]
  },
  {
   "cell_type": "code",
   "execution_count": null,
   "metadata": {
    "colab": {
     "base_uri": "https://localhost:8080/",
     "height": 102
    },
    "id": "WogepqBaRyKX",
    "outputId": "9291f204-e706-4e83-ff2a-3a2bf4ea7eb1"
   },
   "outputs": [
    {
     "data": {
      "image/png": "[encoded data removed]",
      "text/plain": [
       "<Figure size 72x72 with 1 Axes>"
      ]
     },
     "metadata": {
      "needs_background": "light",
      "tags": []
     },
     "output_type": "display_data"
    }
   ],
   "source": [
    "plt.figure(figsize=(1,1))\n",
    "plt.imshow(A, cmap='binary')\n",
    "plt.show()"
   ]
  },
  {
   "cell_type": "code",
   "execution_count": null,
   "metadata": {
    "colab": {
     "base_uri": "https://localhost:8080/",
     "height": 320
    },
    "id": "NUNTI6VrRyKX",
    "outputId": "4c0497b4-ec39-4a26-be1b-b300eac7bb3a"
   },
   "outputs": [
    {
     "data": {
      "image/png": "[encoded data removed]",
      "text/plain": [
       "<Figure size 360x360 with 2 Axes>"
      ]
     },
     "metadata": {
      "needs_background": "light",
      "tags": []
     },
     "output_type": "display_data"
    }
   ],
   "source": [
    "fig, (ax1, ax2) = plt.subplots(1, 2, figsize=(5,5))\n",
    "ax1.imshow(X_dense, cmap='binary')\n",
    "ax2.imshow(B, cmap='binary')\n",
    "plt.show()"
   ]
  },
  {
   "cell_type": "code",
   "execution_count": null,
   "metadata": {
    "id": "AEyO6p1GRyKX"
   },
   "outputs": [],
   "source": [
    "A = sparse.csr_matrix(A)\n",
    "B = X.dot(A)"
   ]
  },
  {
   "cell_type": "code",
   "execution_count": null,
   "metadata": {
    "colab": {
     "base_uri": "https://localhost:8080/"
    },
    "id": "gmA248OjRyKX",
    "outputId": "019aea7f-0077-4d05-df8a-18172aed2279"
   },
   "outputs": [
    {
     "data": {
      "text/plain": [
       "<18x2 sparse matrix of type '<class 'numpy.longlong'>'\n",
       "\twith 26 stored elements in Compressed Sparse Row format>"
      ]
     },
     "execution_count": 29,
     "metadata": {
      "tags": []
     },
     "output_type": "execute_result"
    }
   ],
   "source": [
    "B"
   ]
  },
  {
   "cell_type": "code",
   "execution_count": null,
   "metadata": {
    "colab": {
     "base_uri": "https://localhost:8080/"
    },
    "id": "o8WYeHfDRyKY",
    "outputId": "ddb2529e-1c7a-470f-811a-2963a40d6a79",
    "scrolled": true
   },
   "outputs": [
    {
     "data": {
      "text/plain": [
       "<3x3 sparse matrix of type '<class 'numpy.longlong'>'\n",
       "\twith 9 stored elements in Compressed Sparse Column format>"
      ]
     },
     "execution_count": 30,
     "metadata": {
      "tags": []
     },
     "output_type": "execute_result"
    }
   ],
   "source": [
    "X.T.dot(X)"
   ]
  },
  {
   "cell_type": "code",
   "execution_count": null,
   "metadata": {
    "colab": {
     "base_uri": "https://localhost:8080/"
    },
    "id": "D3puVA9QRyKY",
    "outputId": "301d9586-f407-4232-ea8f-77576275f446"
   },
   "outputs": [
    {
     "data": {
      "text/plain": [
       "<18x18 sparse matrix of type '<class 'numpy.longlong'>'\n",
       "\twith 152 stored elements in Compressed Sparse Row format>"
      ]
     },
     "execution_count": 31,
     "metadata": {
      "tags": []
     },
     "output_type": "execute_result"
    }
   ],
   "source": [
    "X.dot(X.T)"
   ]
  },
  {
   "cell_type": "code",
   "execution_count": null,
   "metadata": {
    "colab": {
     "base_uri": "https://localhost:8080/"
    },
    "id": "_YIIbn0lavSO",
    "outputId": "6527e882-ca2a-428b-e695-cec211da69d7"
   },
   "outputs": [
    {
     "data": {
      "text/plain": [
       "<3x18 sparse matrix of type '<class 'numpy.longlong'>'\n",
       "\twith 25 stored elements in Compressed Sparse Row format>"
      ]
     },
     "execution_count": 32,
     "metadata": {
      "tags": []
     },
     "output_type": "execute_result"
    }
   ],
   "source": [
    "sparse.csr_matrix(X.T)"
   ]
  },
  {
   "cell_type": "code",
   "execution_count": null,
   "metadata": {
    "id": "5zPL8v_nRyKY"
   },
   "outputs": [],
   "source": [
    "n_row, n_col = 18, 3\n",
    "X_dense = np.random.randint(3, size = (n_row, n_col))\n",
    "X = sparse.csr_matrix(X_dense)"
   ]
  },
  {
   "cell_type": "code",
   "execution_count": null,
   "metadata": {
    "colab": {
     "base_uri": "https://localhost:8080/",
     "height": 320
    },
    "id": "dRIuq_DyRyKY",
    "outputId": "e6fee3e4-15f4-4df4-bb0a-a1eac3b083ed"
   },
   "outputs": [
    {
     "data": {
      "image/png": "[encoded data removed]",
      "text/plain": [
       "<Figure size 360x360 with 1 Axes>"
      ]
     },
     "metadata": {
      "needs_background": "light",
      "tags": []
     },
     "output_type": "display_data"
    }
   ],
   "source": [
    "plt.figure(figsize=(5, 5))\n",
    "plt.imshow(X_dense, cmap='binary')\n",
    "plt.show()"
   ]
  },
  {
   "cell_type": "code",
   "execution_count": null,
   "metadata": {
    "id": "b3-RqfFQRyKY"
   },
   "outputs": [],
   "source": [
    "Y = X > 1"
   ]
  },
  {
   "cell_type": "code",
   "execution_count": null,
   "metadata": {
    "colab": {
     "base_uri": "https://localhost:8080/"
    },
    "id": "wyV0sKMnRyKZ",
    "outputId": "477c269c-84b8-42d6-8841-8fda05704587"
   },
   "outputs": [
    {
     "data": {
      "text/plain": [
       "<18x3 sparse matrix of type '<class 'numpy.bool_'>'\n",
       "\twith 18 stored elements in Compressed Sparse Row format>"
      ]
     },
     "execution_count": 36,
     "metadata": {
      "tags": []
     },
     "output_type": "execute_result"
    }
   ],
   "source": [
    "Y"
   ]
  },
  {
   "cell_type": "code",
   "execution_count": null,
   "metadata": {
    "colab": {
     "base_uri": "https://localhost:8080/"
    },
    "id": "I-J-IuqBcO3E",
    "outputId": "bbed207e-7a54-4fe2-e1da-79f17fd8b5ab"
   },
   "outputs": [
    {
     "name": "stderr",
     "output_type": "stream",
     "text": [
      "/usr/local/lib/python3.6/dist-packages/scipy/sparse/compressed.py:287: SparseEfficiencyWarning: Comparing a sparse matrix with a scalar greater than zero using < is inefficient, try using >= instead.\n",
      "  warn(bad_scalar_msg, SparseEfficiencyWarning)\n"
     ]
    }
   ],
   "source": [
    "Y = X <1"
   ]
  },
  {
   "cell_type": "code",
   "execution_count": null,
   "metadata": {
    "colab": {
     "base_uri": "https://localhost:8080/"
    },
    "id": "1FIIOyXxckRN",
    "outputId": "993e54ab-6978-4722-ab22-6bdc97a4adc3"
   },
   "outputs": [
    {
     "data": {
      "text/plain": [
       "array([ True,  True,  True,  True,  True,  True,  True,  True,  True,\n",
       "        True,  True,  True,  True,  True,  True])"
      ]
     },
     "execution_count": 38,
     "metadata": {
      "tags": []
     },
     "output_type": "execute_result"
    }
   ],
   "source": [
    "Y.data"
   ]
  },
  {
   "cell_type": "code",
   "execution_count": null,
   "metadata": {
    "colab": {
     "base_uri": "https://localhost:8080/"
    },
    "id": "G3vYBwnEcrQq",
    "outputId": "13c0881c-ac43-40ed-f04d-625c73929c86"
   },
   "outputs": [
    {
     "data": {
      "text/plain": [
       "matrix([[0, 1, 2],\n",
       "        [0, 1, 2],\n",
       "        [2, 1, 2],\n",
       "        [1, 1, 0],\n",
       "        [0, 0, 0],\n",
       "        [0, 2, 2],\n",
       "        [1, 2, 2],\n",
       "        [0, 0, 1],\n",
       "        [1, 1, 1],\n",
       "        [1, 2, 0],\n",
       "        [1, 2, 2],\n",
       "        [2, 0, 1],\n",
       "        [1, 1, 2],\n",
       "        [2, 2, 1],\n",
       "        [2, 2, 0],\n",
       "        [1, 0, 1],\n",
       "        [0, 1, 0],\n",
       "        [2, 1, 1]], dtype=int64)"
      ]
     },
     "execution_count": 39,
     "metadata": {
      "tags": []
     },
     "output_type": "execute_result"
    }
   ],
   "source": [
    "X.todense()"
   ]
  },
  {
   "cell_type": "code",
   "execution_count": null,
   "metadata": {
    "colab": {
     "base_uri": "https://localhost:8080/"
    },
    "id": "QndJLDZlc1sf",
    "outputId": "2ebce2dc-4640-4454-e335-c53362416d63"
   },
   "outputs": [
    {
     "data": {
      "text/plain": [
       "matrix([[ True, False, False],\n",
       "        [ True, False, False],\n",
       "        [False, False, False],\n",
       "        [False, False,  True],\n",
       "        [ True,  True,  True],\n",
       "        [ True, False, False],\n",
       "        [False, False, False],\n",
       "        [ True,  True, False],\n",
       "        [False, False, False],\n",
       "        [False, False,  True],\n",
       "        [False, False, False],\n",
       "        [False,  True, False],\n",
       "        [False, False, False],\n",
       "        [False, False, False],\n",
       "        [False, False,  True],\n",
       "        [False,  True, False],\n",
       "        [ True, False,  True],\n",
       "        [False, False, False]])"
      ]
     },
     "execution_count": 40,
     "metadata": {
      "tags": []
     },
     "output_type": "execute_result"
    }
   ],
   "source": [
    "Y.todense()"
   ]
  },
  {
   "cell_type": "code",
   "execution_count": null,
   "metadata": {
    "id": "cPxVlR18RyKZ"
   },
   "outputs": [],
   "source": [
    "Y_dense = np.array(Y.todense())"
   ]
  },
  {
   "cell_type": "code",
   "execution_count": null,
   "metadata": {
    "colab": {
     "base_uri": "https://localhost:8080/",
     "height": 320
    },
    "id": "kaY7DfGXRyKZ",
    "outputId": "1c3aa7ad-0699-45a5-bac8-64669dbcacc6"
   },
   "outputs": [
    {
     "data": {
      "image/png": "[encoded data removed]",
      "text/plain": [
       "<Figure size 360x360 with 1 Axes>"
      ]
     },
     "metadata": {
      "needs_background": "light",
      "tags": []
     },
     "output_type": "display_data"
    }
   ],
   "source": [
    "plt.figure(figsize=(5, 5))\n",
    "plt.imshow(Y_dense, cmap='binary')\n",
    "plt.show()"
   ]
  },
  {
   "cell_type": "code",
   "execution_count": null,
   "metadata": {
    "colab": {
     "base_uri": "https://localhost:8080/"
    },
    "id": "LZML-pTMRyKZ",
    "outputId": "96a2656d-bf3c-488c-c2cf-cc8aa0d2f2ca"
   },
   "outputs": [
    {
     "data": {
      "text/plain": [
       "array([1., 1., 0., 1., 3., 1., 0., 2., 0., 1., 0., 1., 0., 0., 1., 1., 2.,\n",
       "       0.])"
      ]
     },
     "execution_count": 43,
     "metadata": {
      "tags": []
     },
     "output_type": "execute_result"
    }
   ],
   "source": [
    "Y.dot(np.ones(n_col))"
   ]
  },
  {
   "cell_type": "code",
   "execution_count": null,
   "metadata": {
    "colab": {
     "base_uri": "https://localhost:8080/"
    },
    "id": "eSGQ0QuRRyKa",
    "outputId": "f8c05e6b-dcc7-4979-a407-67be61bc8333"
   },
   "outputs": [
    {
     "data": {
      "text/plain": [
       "array([ True,  True, False,  True,  True,  True, False,  True, False,\n",
       "        True, False,  True, False, False,  True,  True,  True, False])"
      ]
     },
     "execution_count": 44,
     "metadata": {
      "tags": []
     },
     "output_type": "execute_result"
    }
   ],
   "source": [
    "Y.dot(np.ones(n_col, dtype=bool))"
   ]
  },
  {
   "cell_type": "code",
   "execution_count": null,
   "metadata": {
    "id": "cc_w5imbRyKa"
   },
   "outputs": [],
   "source": [
    "Z = 2 * X + 5 * Y"
   ]
  },
  {
   "cell_type": "code",
   "execution_count": null,
   "metadata": {
    "id": "g2jWX-zJRyKa"
   },
   "outputs": [],
   "source": [
    "Z_dense = np.array(Z.todense())"
   ]
  },
  {
   "cell_type": "code",
   "execution_count": null,
   "metadata": {
    "colab": {
     "base_uri": "https://localhost:8080/",
     "height": 320
    },
    "id": "Gmn1Zz0oRyKa",
    "outputId": "9c74a22e-9098-4cf5-e096-10cd1e2989a6"
   },
   "outputs": [
    {
     "data": {
      "image/png": "[encoded data removed]",
      "text/plain": [
       "<Figure size 360x360 with 1 Axes>"
      ]
     },
     "metadata": {
      "needs_background": "light",
      "tags": []
     },
     "output_type": "display_data"
    }
   ],
   "source": [
    "plt.figure(figsize=(5, 5))\n",
    "plt.imshow(Z_dense, cmap='binary')\n",
    "plt.show()"
   ]
  },
  {
   "cell_type": "markdown",
   "metadata": {
    "id": "7MNBe3wbRyKa"
   },
   "source": [
    "## To do\n",
    "\n",
    "Consider the following matrix:"
   ]
  },
  {
   "cell_type": "code",
   "execution_count": null,
   "metadata": {
    "id": "BrRNs7_vRyKb"
   },
   "outputs": [],
   "source": [
    "n_row, n_col = 20, 4\n",
    "X = sparse.csr_matrix(np.random.randint(3, size = (n_row, n_col)))"
   ]
  },
  {
   "cell_type": "markdown",
   "metadata": {
    "id": "ltR5Yj8sRyKb"
   },
   "source": [
    "* Compute the vector of the Euclidean norm of each row.\n",
    "* Do the same for columns."
   ]
  },
  {
   "cell_type": "code",
   "execution_count": null,
   "metadata": {
    "id": "dqmxTu0weFnF"
   },
   "outputs": [],
   "source": [
    "X_n"
   ]
  },
  {
   "cell_type": "code",
   "execution_count": null,
   "metadata": {
    "id": "eah9F8j7eGFS"
   },
   "outputs": [],
   "source": []
  },
  {
   "cell_type": "markdown",
   "metadata": {
    "id": "cWZw_fByRyKb"
   },
   "source": [
    "## Slicing"
   ]
  },
  {
   "cell_type": "markdown",
   "metadata": {
    "id": "jtjv9PlHRyKb"
   },
   "source": [
    "Sparse matrices can be sliced like numpy arrays."
   ]
  },
  {
   "cell_type": "code",
   "execution_count": null,
   "metadata": {
    "id": "XoCfwY1sRyKb"
   },
   "outputs": [],
   "source": [
    "n_row, n_col = 18, 3\n",
    "X_dense = np.random.randint(3, size = (n_row, n_col))"
   ]
  },
  {
   "cell_type": "code",
   "execution_count": null,
   "metadata": {
    "colab": {
     "base_uri": "https://localhost:8080/",
     "height": 320
    },
    "id": "-WOjVLahRyKc",
    "outputId": "d8201817-9c72-4865-923e-d0518ee95bea"
   },
   "outputs": [
    {
     "data": {
      "image/png": "[encoded data removed]",
      "text/plain": [
       "<Figure size 360x360 with 1 Axes>"
      ]
     },
     "metadata": {
      "needs_background": "light",
      "tags": []
     },
     "output_type": "display_data"
    }
   ],
   "source": [
    "plt.figure(figsize=(5, 5))\n",
    "plt.imshow(X_dense, cmap='binary')\n",
    "plt.show()"
   ]
  },
  {
   "cell_type": "code",
   "execution_count": null,
   "metadata": {
    "colab": {
     "base_uri": "https://localhost:8080/"
    },
    "id": "aeeBLr_xRyKc",
    "outputId": "bf44e912-d06a-441f-b68a-127b9c1db189"
   },
   "outputs": [
    {
     "data": {
      "text/plain": [
       "<18x3 sparse matrix of type '<class 'numpy.longlong'>'\n",
       "\twith 34 stored elements in Compressed Sparse Row format>"
      ]
     },
     "execution_count": 51,
     "metadata": {
      "tags": []
     },
     "output_type": "execute_result"
    }
   ],
   "source": [
    "X = sparse.csr_matrix(X_dense)\n",
    "X"
   ]
  },
  {
   "cell_type": "code",
   "execution_count": null,
   "metadata": {
    "id": "_BI83c5URyKc"
   },
   "outputs": [],
   "source": [
    "Y = X[np.array([2,5,6])]"
   ]
  },
  {
   "cell_type": "code",
   "execution_count": null,
   "metadata": {
    "colab": {
     "base_uri": "https://localhost:8080/"
    },
    "id": "iLXi4FzBRyKc",
    "outputId": "497894a6-8eee-48f7-f634-ed83c276c114"
   },
   "outputs": [
    {
     "data": {
      "text/plain": [
       "<3x3 sparse matrix of type '<class 'numpy.longlong'>'\n",
       "\twith 4 stored elements in Compressed Sparse Row format>"
      ]
     },
     "execution_count": 53,
     "metadata": {
      "tags": []
     },
     "output_type": "execute_result"
    }
   ],
   "source": [
    "Y"
   ]
  },
  {
   "cell_type": "code",
   "execution_count": null,
   "metadata": {
    "id": "Gj0Y3siyRyKd"
   },
   "outputs": [],
   "source": [
    "Y_dense = np.array(Y.todense())"
   ]
  },
  {
   "cell_type": "code",
   "execution_count": null,
   "metadata": {
    "colab": {
     "base_uri": "https://localhost:8080/",
     "height": 102
    },
    "id": "HZjjtFFuRyKd",
    "outputId": "79fd973a-f745-4ce4-bad0-4bed479cb72f"
   },
   "outputs": [
    {
     "data": {
      "image/png": "[encoded data removed]",
      "text/plain": [
       "<Figure size 72x72 with 1 Axes>"
      ]
     },
     "metadata": {
      "needs_background": "light",
      "tags": []
     },
     "output_type": "display_data"
    }
   ],
   "source": [
    "plt.figure(figsize=(1, 1))\n",
    "plt.imshow(Y_dense, cmap='binary')\n",
    "plt.show()"
   ]
  },
  {
   "cell_type": "code",
   "execution_count": null,
   "metadata": {
    "id": "aEjMowz8RyKd"
   },
   "outputs": [],
   "source": [
    "Y = X[:,np.array([0,2])]"
   ]
  },
  {
   "cell_type": "code",
   "execution_count": null,
   "metadata": {
    "colab": {
     "base_uri": "https://localhost:8080/"
    },
    "id": "8kjN2WhlRyKd",
    "outputId": "4f9a04ed-5ecc-4a64-cfcd-692204786162"
   },
   "outputs": [
    {
     "data": {
      "text/plain": [
       "<18x2 sparse matrix of type '<class 'numpy.longlong'>'\n",
       "\twith 21 stored elements in Compressed Sparse Row format>"
      ]
     },
     "execution_count": 58,
     "metadata": {
      "tags": []
     },
     "output_type": "execute_result"
    }
   ],
   "source": [
    "Y"
   ]
  },
  {
   "cell_type": "code",
   "execution_count": null,
   "metadata": {
    "id": "Blgp8MAARyKd"
   },
   "outputs": [],
   "source": [
    "Y_dense = np.array(Y.todense())"
   ]
  },
  {
   "cell_type": "code",
   "execution_count": null,
   "metadata": {
    "colab": {
     "base_uri": "https://localhost:8080/",
     "height": 320
    },
    "id": "PRzW8l7GRyKe",
    "outputId": "5dc2977c-ebe5-4df4-8122-923aba84c235"
   },
   "outputs": [
    {
     "data": {
      "image/png": "[encoded data removed]",
      "text/plain": [
       "<Figure size 360x360 with 1 Axes>"
      ]
     },
     "metadata": {
      "needs_background": "light",
      "tags": []
     },
     "output_type": "display_data"
    }
   ],
   "source": [
    "plt.figure(figsize=(5, 5))\n",
    "plt.imshow(Y_dense, cmap='binary')\n",
    "plt.show()"
   ]
  },
  {
   "cell_type": "markdown",
   "metadata": {
    "id": "dfOrNAUIRyKe"
   },
   "source": [
    "## To do \n",
    "\n",
    "Consider the following matrix:"
   ]
  },
  {
   "cell_type": "code",
   "execution_count": null,
   "metadata": {
    "id": "s8Ry_lFLRyKe"
   },
   "outputs": [],
   "source": [
    "n_row, n_col = 20, 10\n",
    "X = sparse.csr_matrix(np.random.randint(3, size = (n_row, n_col)))"
   ]
  },
  {
   "cell_type": "markdown",
   "metadata": {
    "id": "I2_rT0dBRyKe"
   },
   "source": [
    "* Select the 5 rows of largest sums and build the corresponding CSR matrix (size 5 x 10).\n",
    "* Do the same for columns."
   ]
  },
  {
   "cell_type": "markdown",
   "metadata": {
    "id": "VPFRnSwPRyKe"
   },
   "source": [
    "## DIAG format"
   ]
  },
  {
   "cell_type": "code",
   "execution_count": null,
   "metadata": {
    "id": "jzAe8ojgRyKf"
   },
   "outputs": [],
   "source": [
    "D = sparse.diags(np.arange(10))"
   ]
  },
  {
   "cell_type": "code",
   "execution_count": null,
   "metadata": {
    "colab": {
     "base_uri": "https://localhost:8080/"
    },
    "id": "pUypnYEsRyKf",
    "outputId": "aeee18f4-9cb4-44e7-e895-000c37d9964e"
   },
   "outputs": [
    {
     "data": {
      "text/plain": [
       "<10x10 sparse matrix of type '<class 'numpy.float64'>'\n",
       "\twith 10 stored elements (1 diagonals) in DIAgonal format>"
      ]
     },
     "execution_count": 62,
     "metadata": {
      "tags": []
     },
     "output_type": "execute_result"
    }
   ],
   "source": [
    "D"
   ]
  },
  {
   "cell_type": "code",
   "execution_count": null,
   "metadata": {
    "colab": {
     "base_uri": "https://localhost:8080/"
    },
    "id": "JhITqQZ-RyKf",
    "outputId": "088df78a-fd6f-44c7-99e1-8006e0cfc783"
   },
   "outputs": [
    {
     "data": {
      "text/plain": [
       "array([[0., 1., 2., 3., 4., 5., 6., 7., 8., 9.]])"
      ]
     },
     "execution_count": 63,
     "metadata": {
      "tags": []
     },
     "output_type": "execute_result"
    }
   ],
   "source": [
    "D.data"
   ]
  },
  {
   "cell_type": "code",
   "execution_count": null,
   "metadata": {
    "colab": {
     "base_uri": "https://localhost:8080/"
    },
    "id": "43ytNW61RyKf",
    "outputId": "9a9f492e-11c1-44a9-a461-c9c885557e5e"
   },
   "outputs": [
    {
     "data": {
      "text/plain": [
       "10"
      ]
     },
     "execution_count": 64,
     "metadata": {
      "tags": []
     },
     "output_type": "execute_result"
    }
   ],
   "source": [
    "D.nnz"
   ]
  },
  {
   "cell_type": "code",
   "execution_count": null,
   "metadata": {
    "id": "fu8vkhACRyKf"
   },
   "outputs": [],
   "source": [
    "D = sparse.csr_matrix(D)"
   ]
  },
  {
   "cell_type": "code",
   "execution_count": null,
   "metadata": {
    "colab": {
     "base_uri": "https://localhost:8080/"
    },
    "id": "9JL-JaGNRyKg",
    "outputId": "ed760461-dcc6-4bba-be98-44f2e5ec8651"
   },
   "outputs": [
    {
     "data": {
      "text/plain": [
       "array([1., 2., 3., 4., 5., 6., 7., 8., 9.])"
      ]
     },
     "execution_count": 66,
     "metadata": {
      "tags": []
     },
     "output_type": "execute_result"
    }
   ],
   "source": [
    "D.data"
   ]
  },
  {
   "cell_type": "code",
   "execution_count": null,
   "metadata": {
    "colab": {
     "base_uri": "https://localhost:8080/"
    },
    "id": "2DlianLDRyKg",
    "outputId": "8cffb966-c56a-4f24-e289-8bd3a86d5194"
   },
   "outputs": [
    {
     "data": {
      "text/plain": [
       "9"
      ]
     },
     "execution_count": 67,
     "metadata": {
      "tags": []
     },
     "output_type": "execute_result"
    }
   ],
   "source": [
    "D.nnz"
   ]
  },
  {
   "cell_type": "code",
   "execution_count": null,
   "metadata": {
    "colab": {
     "base_uri": "https://localhost:8080/"
    },
    "id": "q5t8hAl3f92Z",
    "outputId": "30ee88a2-8873-4de3-a106-a19c87a05399"
   },
   "outputs": [
    {
     "data": {
      "text/plain": [
       "array([1, 2, 3, 4, 5, 6, 7, 8, 9], dtype=int32)"
      ]
     },
     "execution_count": 68,
     "metadata": {
      "tags": []
     },
     "output_type": "execute_result"
    }
   ],
   "source": [
    "D.indices"
   ]
  },
  {
   "cell_type": "code",
   "execution_count": null,
   "metadata": {
    "id": "8BLqybUPRyKg"
   },
   "outputs": [],
   "source": [
    "n_row, n_col = 10, 4\n",
    "X = sparse.csr_matrix(np.random.randint(2, size = (n_row, n_col)))"
   ]
  },
  {
   "cell_type": "code",
   "execution_count": null,
   "metadata": {
    "colab": {
     "base_uri": "https://localhost:8080/"
    },
    "id": "Gxj5R_XURyKg",
    "outputId": "396c8517-d941-465a-9b36-5437403b1be0"
   },
   "outputs": [
    {
     "data": {
      "text/plain": [
       "<10x4 sparse matrix of type '<class 'numpy.float64'>'\n",
       "\twith 21 stored elements in Compressed Sparse Row format>"
      ]
     },
     "execution_count": 70,
     "metadata": {
      "tags": []
     },
     "output_type": "execute_result"
    }
   ],
   "source": [
    "D.dot(X)"
   ]
  },
  {
   "cell_type": "code",
   "execution_count": null,
   "metadata": {
    "id": "CvtTCUOxRyKg"
   },
   "outputs": [],
   "source": [
    "D = sparse.diags(np.ones(4))"
   ]
  },
  {
   "cell_type": "code",
   "execution_count": null,
   "metadata": {
    "colab": {
     "base_uri": "https://localhost:8080/"
    },
    "id": "pMoQ_ZMcRyKh",
    "outputId": "4a73c1f9-a875-4efc-a8c6-d6e93705e99a"
   },
   "outputs": [
    {
     "data": {
      "text/plain": [
       "<10x4 sparse matrix of type '<class 'numpy.float64'>'\n",
       "\twith 25 stored elements in Compressed Sparse Row format>"
      ]
     },
     "execution_count": 72,
     "metadata": {
      "tags": []
     },
     "output_type": "execute_result"
    }
   ],
   "source": [
    "X.dot(D)"
   ]
  },
  {
   "cell_type": "markdown",
   "metadata": {
    "id": "c1KkXHSSRyKh"
   },
   "source": [
    "## To do"
   ]
  },
  {
   "cell_type": "markdown",
   "metadata": {
    "id": "cfnC8u_YRyKh"
   },
   "source": [
    "Consider the following matrix:"
   ]
  },
  {
   "cell_type": "code",
   "execution_count": null,
   "metadata": {
    "id": "loEP6TUORyKh"
   },
   "outputs": [],
   "source": [
    "n_row, n_col = 20, 4\n",
    "X = sparse.csr_matrix(np.random.randint(2, size = (n_row, n_col)))"
   ]
  },
  {
   "cell_type": "markdown",
   "metadata": {
    "id": "hTFDDZSzRyKh"
   },
   "source": [
    "* Normalize this matrix so that each row sums to 1 (or to 0 if the whole row is zero). \n",
    "* Do the same for the columns. "
   ]
  },
  {
   "cell_type": "markdown",
   "metadata": {
    "id": "YFoEw59GRyKi"
   },
   "source": [
    "## COO format"
   ]
  },
  {
   "cell_type": "markdown",
   "metadata": {
    "id": "tMItSMUsRyKi"
   },
   "source": [
    "Another way to represent sparse matrices is the COO (COOrdinate) format. It is useful to load a matrix $X$ from a list of non-zero entries $(i, j, X_{ij})$, stored in a csv file for instance."
   ]
  },
  {
   "cell_type": "code",
   "execution_count": null,
   "metadata": {
    "id": "YhXzh6E9RyKi"
   },
   "outputs": [],
   "source": [
    "n_row, n_col = 10, 4\n",
    "X = sparse.csr_matrix(np.random.randint(3, size = (n_row, n_col)))"
   ]
  },
  {
   "cell_type": "code",
   "execution_count": null,
   "metadata": {
    "id": "VJ_wJx_fRyKi"
   },
   "outputs": [],
   "source": [
    "X_coo = sparse.coo_matrix(X)"
   ]
  },
  {
   "cell_type": "code",
   "execution_count": null,
   "metadata": {
    "id": "cpMB23N_RyKi"
   },
   "outputs": [],
   "source": [
    "X_coo.row"
   ]
  },
  {
   "cell_type": "code",
   "execution_count": null,
   "metadata": {
    "id": "rM7CYRb-RyKj"
   },
   "outputs": [],
   "source": [
    "X_coo.col"
   ]
  },
  {
   "cell_type": "code",
   "execution_count": null,
   "metadata": {
    "id": "c5e9IQ4uRyKj"
   },
   "outputs": [],
   "source": [
    "X_coo.data"
   ]
  },
  {
   "cell_type": "code",
   "execution_count": null,
   "metadata": {
    "id": "5jM7BIgoRyKj"
   },
   "outputs": [],
   "source": [
    "# A new sparse matrix\n",
    "n_row, n_col = 20, 4\n",
    "row = np.random.randint(n_row, size=10)\n",
    "col = np.random.randint(n_col, size=10)\n",
    "data = np.random.randint(3, size=10)"
   ]
  },
  {
   "cell_type": "code",
   "execution_count": null,
   "metadata": {
    "id": "s_Q2tE0jRyKj"
   },
   "outputs": [],
   "source": [
    "X_coo = sparse.coo_matrix((data, (row, col)), shape=(n_row, n_col))"
   ]
  },
  {
   "cell_type": "code",
   "execution_count": null,
   "metadata": {
    "id": "M4ZqznPtRyKj"
   },
   "outputs": [],
   "source": [
    "X_csr = sparse.csr_matrix(X_coo)"
   ]
  },
  {
   "cell_type": "code",
   "execution_count": null,
   "metadata": {
    "id": "xyWSBuWNRyKk"
   },
   "outputs": [],
   "source": [
    "X_csr"
   ]
  },
  {
   "cell_type": "markdown",
   "metadata": {
    "id": "00ebHYMaRyKk"
   },
   "source": [
    "## To do"
   ]
  },
  {
   "cell_type": "markdown",
   "metadata": {
    "id": "HF8NpXNnRyKk"
   },
   "source": [
    "* Complete the following function:"
   ]
  },
  {
   "cell_type": "code",
   "execution_count": null,
   "metadata": {
    "id": "EKgZkKzoRyKk"
   },
   "outputs": [],
   "source": [
    "def get_csr(entries, shape):\n",
    "    '''Get a CSR matrix from a list of triplets (i, j, value).\n",
    "    \n",
    "    Parameters\n",
    "    ----------\n",
    "    entries: list\n",
    "        List of triplets\n",
    "    shape: tuple\n",
    "        Shape of the matrix\n",
    "        \n",
    "    Returns\n",
    "    -------\n",
    "    sparse.csr_matrix\n",
    "    '''\n",
    "    # to be completed\n",
    "    return sparse.csr_matrix(shape)"
   ]
  },
  {
   "cell_type": "markdown",
   "metadata": {
    "id": "9rTyRzE4RyKl"
   },
   "source": [
    "* Test it!"
   ]
  },
  {
   "cell_type": "code",
   "execution_count": null,
   "metadata": {
    "id": "oxQ0PBOzRyKl"
   },
   "outputs": [],
   "source": [
    "X = get_csr([(0, 1, 3), (3, 4, 2), (2, 5, 1)], (5, 10))"
   ]
  },
  {
   "cell_type": "code",
   "execution_count": null,
   "metadata": {
    "id": "xFSHK77iRyKl"
   },
   "outputs": [],
   "source": [
    "X_dense = np.array(X.todense())"
   ]
  },
  {
   "cell_type": "code",
   "execution_count": null,
   "metadata": {
    "id": "LSKdXrowRyKl"
   },
   "outputs": [],
   "source": [
    "plt.imshow(X_dense, cmap='binary')\n",
    "plt.show()"
   ]
  }
 ],
 "metadata": {
  "colab": {
   "collapsed_sections": [],
   "name": "lab-sparse.ipynb",
   "provenance": []
  },
  "kernelspec": {
   "display_name": "Python 3",
   "language": "python",
   "name": "python3"
  },
  "language_info": {
   "codemirror_mode": {
    "name": "ipython",
    "version": 3
   },
   "file_extension": ".py",
   "mimetype": "text/x-python",
   "name": "python",
   "nbconvert_exporter": "python",
   "pygments_lexer": "ipython3",
   "version": "3.7.6"
  }
 },
 "nbformat": 4,
 "nbformat_minor": 1
}
